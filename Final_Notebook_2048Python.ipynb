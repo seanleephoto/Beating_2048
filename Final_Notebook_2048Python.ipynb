{
 "cells": [
  {
   "cell_type": "markdown",
   "metadata": {},
   "source": [
    "# IEOR 265 Course Project\n",
    "### by Hyungki Im, Tor Nitayanont, and Sean Seung Joo Lee\n",
    "\n",
    "This project explores using learning techniques to play the popular game 2048 and compares play performance against two benchmark models. This notebook includes all scripts needed to run the algorithms. The contents are as follows:\n",
    "- Tools to play the game 2048\n",
    "- Algorithms and heuristics used to play the game\n",
    "- Codes to run algorithms and generate metrics to compare performance"
   ]
  },
  {
   "cell_type": "markdown",
   "metadata": {},
   "source": [
    "## Scripts to Play 2048\n",
    "The following codes are all the codes that are needed to play the game. "
   ]
  },
  {
   "cell_type": "code",
   "execution_count": 34,
   "metadata": {},
   "outputs": [],
   "source": [
    "# This script builds all the mechanics needed to play the 2048 game\n",
    "\n",
    "import numpy as np\n",
    "import copy as cp\n",
    "from numpy import zeros\n",
    "import matplotlib.pyplot as plt\n",
    "\n",
    "class board_game_2048():\n",
    "    def __init__(self):\n",
    "        self.board = zeros((4,4),dtype=np.int)\n",
    "        self.game_over = False\n",
    "        \n",
    "    def move(self,direction):\n",
    "        pass\n",
    "    def is_game_over(self):\n",
    "        pass\n",
    "\n",
    "game = board_game_2048()\n",
    "\n",
    "from random import randint, random\n",
    "\n",
    "def fill_cell(board):\n",
    "    i,j = (board == 0).nonzero()\n",
    "    if i.size != 0:\n",
    "        rnd = randint(0,i.size-1)\n",
    "        board[i[rnd],j[rnd]]=2*((random()>.9)+1)\n",
    "\n",
    "fill_cell(game.board)\n",
    "\n",
    "from numpy import array, zeros\n",
    "\n",
    "def move_left(col):\n",
    "    new_col = zeros((4), dtype=col.dtype)\n",
    "    j = 0\n",
    "    previous = None\n",
    "    for i in range(col.size):\n",
    "        if col[i] != 0: # number different from zero\n",
    "            if previous == None:\n",
    "                previous = col[i]\n",
    "            else:\n",
    "                if previous == col[i]:\n",
    "                    new_col[j] = 2 * col[i]\n",
    "                    j += 1\n",
    "                    previous = None\n",
    "                else:\n",
    "                    new_col[j] = previous\n",
    "                    j += 1\n",
    "                    previous = col[i]\n",
    "    if previous != None:\n",
    "        new_col[j] = previous\n",
    "    return new_col\n",
    "\n",
    "from numpy import rot90\n",
    "\n",
    "def move(board, direction):\n",
    "    # 0: left, 1: up, 2: right, 3: down\n",
    "    rotated_board = rot90(board, direction)\n",
    "    cols = [rotated_board[i, :] for i in range(4)]\n",
    "    new_board = array([move_left(col) for col in cols])\n",
    "    return rot90(new_board, -direction)\n",
    "\n",
    "def main_loop(board, direction):\n",
    "    new_board = move(board, direction)\n",
    "    moved = False\n",
    "    if (new_board == board).all():\n",
    "        # move is invalid\n",
    "        pass\n",
    "    else:\n",
    "        moved = True\n",
    "        fill_cell(new_board)\n",
    "        \n",
    "    return (new_board)\n",
    "\n",
    "def game_end(board):\n",
    "    ended=True\n",
    "    for m in range(4):\n",
    "        new_board=move(board,m)\n",
    "        if (new_board == board).all()==False:\n",
    "            ended=False\n",
    "            \n",
    "    return ended"
   ]
  },
  {
   "cell_type": "code",
   "execution_count": 24,
   "metadata": {},
   "outputs": [
    {
     "name": "stdout",
     "output_type": "stream",
     "text": [
      "Initial Board\n",
      "[[0 0 0 0]\n",
      " [0 0 0 2]\n",
      " [0 0 0 0]\n",
      " [0 0 0 0]]\n",
      "Board after one move Left:\n",
      "[[0 0 0 0]\n",
      " [2 0 0 0]\n",
      " [0 0 2 0]\n",
      " [0 0 0 0]]\n",
      "Board after one move up:\n",
      "[[2 2 2 0]\n",
      " [0 0 0 0]\n",
      " [0 0 0 0]\n",
      " [0 0 0 0]]\n"
     ]
    }
   ],
   "source": [
    "# Example Script to play two stages of the game\n",
    "\n",
    "# Initialize the board\n",
    "game = board_game_2048()\n",
    "fill_cell(game.board)\n",
    "board = game.board\n",
    "print('Initial Board')\n",
    "print(board)\n",
    "\n",
    "# The action set is as follows --> 0: left, 1: up, 2: right, 3: down\n",
    "\n",
    "# Play First Move: Play Left\n",
    "newboard1 = main_loop(board,0)\n",
    "print('Board after one move Left:')\n",
    "print(newboard1)\n",
    "\n",
    "# Play Second Move: Play Up\n",
    "newboard2 = main_loop(newboard1,1)\n",
    "print('Board after one move up:')\n",
    "print(newboard2)"
   ]
  },
  {
   "cell_type": "markdown",
   "metadata": {},
   "source": [
    "## Defining the Algorithms\n",
    "\n",
    "We define functions that will play the algorithms until the game ends"
   ]
  },
  {
   "cell_type": "markdown",
   "metadata": {},
   "source": [
    "#### Naive Strategy:\n",
    "This script uses the tools built above to execute a strategy of choosing the action that will minimize the number of pieces on the board in the next turn. Note that at each turn, exactly one random piece is generated. Thus, the number of pieces on the board in the next turn is deterministic. "
   ]
  },
  {
   "cell_type": "code",
   "execution_count": 2,
   "metadata": {},
   "outputs": [],
   "source": [
    "def one_step_min_pieces():\n",
    "    game = board_game_2048()\n",
    "    fill_cell(game.board)\n",
    "    board = game.board\n",
    "\n",
    "    i = 0\n",
    "    game_end_flag = 0\n",
    "    while game_end_flag == 0:\n",
    "        game_end_flag = 1\n",
    "        winning_count = 20 # initialize winning count to be very high\n",
    "        newboard = main_loop(board,0)\n",
    "        count0 = np.count_nonzero(newboard)\n",
    "        if (newboard != board).any():\n",
    "            m = 0\n",
    "            winning_count = count0\n",
    "            game_end_flag = 0\n",
    "        newboard = main_loop(board,1)\n",
    "        count1 = np.count_nonzero(newboard)\n",
    "        if count1<winning_count and (newboard != board).any(): \n",
    "            m = 1\n",
    "            winning_count = count1\n",
    "            game_end_flag = 0\n",
    "        newboard = main_loop(board,2)\n",
    "        count2 = np.count_nonzero(newboard)\n",
    "        if count2<winning_count and (newboard != board).any():\n",
    "            m = 2\n",
    "            winning_count = count2\n",
    "            game_end_flag = 0\n",
    "        newboard = main_loop(board,3)\n",
    "        count3 = np.count_nonzero(newboard)\n",
    "        if count3<winning_count and (newboard != board).any():\n",
    "            m = 3\n",
    "            winning_count = 3\n",
    "            game_end_flag = 0\n",
    "\n",
    "        board = main_loop(board,m)\n",
    "        i = i + 1\n",
    "    return(board)\n"
   ]
  },
  {
   "cell_type": "code",
   "execution_count": 28,
   "metadata": {},
   "outputs": [
    {
     "name": "stdout",
     "output_type": "stream",
     "text": [
      "[[256 128  64  16]\n",
      " [128  64  32   8]\n",
      " [  4  32  16   2]\n",
      " [  2   8   2   4]]\n"
     ]
    }
   ],
   "source": [
    "# Example Run\n",
    "board = one_step_min_pieces() \n",
    "print(board)"
   ]
  },
  {
   "cell_type": "markdown",
   "metadata": {},
   "source": [
    "#### Random Play\n",
    "This code plays the game with random moves until the game ends. "
   ]
  },
  {
   "cell_type": "code",
   "execution_count": 3,
   "metadata": {},
   "outputs": [],
   "source": [
    "# This script demonstrates complete random play\n",
    "def rand_play():\n",
    "    game = board_game_2048()\n",
    "    fill_cell(game.board)\n",
    "    board = game.board\n",
    "\n",
    "    game_end_flag = 0\n",
    "    i = 0\n",
    "    while game_end_flag == 0:\n",
    "        game_end_flag = 1\n",
    "        for j in range(4):\n",
    "            if (main_loop(board,j) != board).any():\n",
    "                game_end_flag = 0\n",
    "        m = randint(0,3)\n",
    "        board = main_loop(board,m)\n",
    "        i = i+1\n",
    "    return(board)"
   ]
  },
  {
   "cell_type": "code",
   "execution_count": 29,
   "metadata": {},
   "outputs": [
    {
     "name": "stdout",
     "output_type": "stream",
     "text": [
      "[[  8   2  64   2]\n",
      " [  2   8  32   8]\n",
      " [ 16 128   2  16]\n",
      " [  4   2  16   4]]\n"
     ]
    }
   ],
   "source": [
    "# Example Run\n",
    "board = rand_play()\n",
    "print(board)"
   ]
  },
  {
   "cell_type": "markdown",
   "metadata": {},
   "source": [
    "#### Monte Carlo Tree Search\n",
    "This code considers each direction and simulates taking one step in that direction followed by a hundred random steps. The simulation is repeated ten times. The direction that has on average the highest score in those simulations is chosen as the optimal direction. "
   ]
  },
  {
   "cell_type": "code",
   "execution_count": 30,
   "metadata": {},
   "outputs": [],
   "source": [
    "def rand_play_rounds(its,board):\n",
    "    game_end_flag = 0\n",
    "    i = 0\n",
    "    while i <= its:\n",
    "        m = randint(0,3)\n",
    "        board = main_loop(board,m)\n",
    "        i = i+1\n",
    "    return(board)\n",
    "\n",
    "# Random Play Base Policy Trajectory Method\n",
    "\n",
    "def rand_traj():\n",
    "    game = board_game_2048()\n",
    "    fill_cell(game.board)\n",
    "    board = game.board\n",
    "    i = 0\n",
    "    while game_end(board)==False:\n",
    "        s = 0\n",
    "        # for each direction, take one step and then 100 random steps\n",
    "        # choose the direction that results in the largest score\n",
    "        for y in range(4):\n",
    "            newboard1 = main_loop(board,y)\n",
    "            score = []\n",
    "            for q in range(10):\n",
    "                newboard = rand_play_rounds(100,newboard1)\n",
    "                score = np.append(score, np.sum(newboard))\n",
    "            score = np.sum(score)\n",
    "            if score > s and (newboard1!=board).any():\n",
    "                s = score\n",
    "                c = y\n",
    "        board = main_loop(board,c)\n",
    "        i = i+1\n",
    "\n",
    "    return(board)\n"
   ]
  },
  {
   "cell_type": "code",
   "execution_count": 31,
   "metadata": {},
   "outputs": [
    {
     "name": "stdout",
     "output_type": "stream",
     "text": [
      "[[   2    8    2    8]\n",
      " [  64    4  128   16]\n",
      " [   4    8 1024    2]\n",
      " [   2   16  512    8]]\n"
     ]
    }
   ],
   "source": [
    "# Example Run\n",
    "board = rand_traj()\n",
    "print(board)"
   ]
  },
  {
   "cell_type": "markdown",
   "metadata": {},
   "source": [
    "#### L-Step Look Ahead Methods\n",
    "These codes are used to generate the cost-to-go-function and the L-step lookahead algorithm"
   ]
  },
  {
   "cell_type": "code",
   "execution_count": 35,
   "metadata": {},
   "outputs": [],
   "source": [
    "\n",
    "#Defining cost-to-go function here\n",
    "def Score(board, score_option):\n",
    "    if score_option == \"sum\":\n",
    "        if game_end(board)==True:\n",
    "            return 0\n",
    "        else:\n",
    "            score=np.sum(board)\n",
    "        return score\n",
    "    elif score_option == \"max\":\n",
    "        if game_end(board)==True:\n",
    "            return 0\n",
    "        else:\n",
    "            score=np.amax(board)\n",
    "        return score\n",
    "    elif score_option == \"weight\":\n",
    "        if game_end(board)==True:\n",
    "            return 0\n",
    "        else:\n",
    "            score = np.sum(board) + 2*board[0,0] + 1*(board[1,0]+board[0,1]) + 0.5*(board[2,0]+board[1,1]+board[0,2])\n",
    "        return score\n",
    "\n",
    "# L-step lookahed\n",
    "#direction=[0,0,0,0,0,0]\n",
    "\n",
    "\n",
    "#Input: Sequence of actions, This returns expected value of our sequence.\n",
    "def L_stepLA(board, L, direction, iter_count, score_option):\n",
    "    TS=0\n",
    "    \n",
    "    if iter_count<L:\n",
    "        m=direction[iter_count]\n",
    "        new_board=move(board,m)\n",
    "        if (new_board != board).any():\n",
    "            \n",
    "            #We have at most 4 possible actions\n",
    "            num_zero=np.count_nonzero(new_board==0)\n",
    "            zero_list=np.where(new_board==0)\n",
    "            for k in range(num_zero):\n",
    "                for p in range(2): #we can have 2 or 4 in an empty tile\n",
    "                    if p==0: #number 2 pops up\n",
    "                        temp=np.copy(new_board)\n",
    "                        i=zero_list[0][k]\n",
    "                        j=zero_list[1][k]\n",
    "                        temp[i,j]=2\n",
    "                        score=0.9*L_stepLA(temp,L,direction,iter_count+1, score_option)/num_zero\n",
    "                        TS+=score\n",
    "                    else:\n",
    "                        temp=np.copy(new_board)\n",
    "                        i=zero_list[0][k]\n",
    "                        j=zero_list[1][k]\n",
    "                        temp[i,j]=4\n",
    "                        score=0.1*L_stepLA(temp,L,direction,iter_count+1, score_option)/num_zero\n",
    "                        TS+=score\n",
    "            return TS\n",
    "        else:\n",
    "            return 0\n",
    "                        \n",
    "    else:\n",
    "        TS=Score(board, score_option)\n",
    "        return TS\n",
    "    \n",
    "def generate_sequence(L):\n",
    "    seq = []\n",
    "    if L == 1:\n",
    "        seq = [[0],[1],[2],[3]]\n",
    "        return seq\n",
    "    else:\n",
    "        temp_seq = generate_sequence(L-1)\n",
    "        for s in temp_seq:\n",
    "            for i in range(4):\n",
    "                s_copy = cp.copy(s)\n",
    "                s_copy.append(i)\n",
    "                seq.append(s_copy)\n",
    "        return seq\n",
    "    \n",
    "def optimal_action(board, L, score_option):\n",
    "    all_seq = generate_sequence(L)\n",
    "    list_sc = [0 for i in range(len(all_seq))]\n",
    "    ind_argmax = -1\n",
    "    current_max = -1\n",
    "    for i in range(len(all_seq)):\n",
    "        seq = all_seq[i]\n",
    "        sc = L_stepLA(board, L, seq, 0, score_option)\n",
    "        list_sc[i] = sc\n",
    "        if sc > current_max:\n",
    "            current_max = sc\n",
    "            ind_argmax = i\n",
    "    return all_seq[ind_argmax]\n",
    "\n",
    "# Weight Function Call\n",
    "def weight():\n",
    "    game = board_game_2048()\n",
    "    fill_cell(game.board)\n",
    "    board = game.board\n",
    "\n",
    "    L = 2\n",
    "\n",
    "    i = 0\n",
    "\n",
    "    while not game_end(board):\n",
    "        action_seq = optimal_action(board,L,\"weight\")\n",
    "        opt_action = action_seq[0]\n",
    "        new_board = move(board, opt_action)\n",
    "        fill_cell(new_board)\n",
    "        board = np.copy(new_board)\n",
    "        i = i+1\n",
    "    return(board)\n",
    "\n",
    "# Sum Function Call\n",
    "def sume():\n",
    "    game = board_game_2048()\n",
    "    fill_cell(game.board)\n",
    "    board = game.board\n",
    "\n",
    "    L = 2\n",
    "\n",
    "    i = 0\n",
    "\n",
    "    while not game_end(board):\n",
    "        action_seq = optimal_action(board,L,\"sum\")\n",
    "        opt_action = action_seq[0]\n",
    "        new_board = move(board, opt_action)\n",
    "        fill_cell(new_board)\n",
    "        board = np.copy(new_board)\n",
    "        i = i+1\n",
    "    return(board)\n",
    "\n",
    "# Max Function Call\n",
    "def maxe():\n",
    "    game = board_game_2048()\n",
    "    fill_cell(game.board)\n",
    "    board = game.board\n",
    "\n",
    "    L = 2\n",
    "\n",
    "    i = 0\n",
    "\n",
    "    while not game_end(board):\n",
    "        action_seq = optimal_action(board,L,\"max\")\n",
    "        opt_action = action_seq[0]\n",
    "        new_board = move(board, opt_action)\n",
    "        fill_cell(new_board)\n",
    "        board = np.copy(new_board)\n",
    "        i = i+1\n",
    "    return(board)"
   ]
  },
  {
   "cell_type": "code",
   "execution_count": 36,
   "metadata": {},
   "outputs": [
    {
     "name": "stdout",
     "output_type": "stream",
     "text": [
      "[[1024   64    8    4]\n",
      " [ 512  128   32    8]\n",
      " [  32   64   16    4]\n",
      " [   2   16    8    2]]\n"
     ]
    }
   ],
   "source": [
    "# Example Run\n",
    "board = weight()\n",
    "print(board)"
   ]
  },
  {
   "cell_type": "markdown",
   "metadata": {},
   "source": [
    "## Evaluate the Algorithms\n",
    "These scripts will run each of the algorithms and generate metrics used to compare performance. \n",
    "it_num determines the number of runs to perform before generating metrics"
   ]
  },
  {
   "cell_type": "code",
   "execution_count": 41,
   "metadata": {},
   "outputs": [
    {
     "name": "stdout",
     "output_type": "stream",
     "text": [
      "567.9\n",
      "236.16\n",
      "[[ 510.  642.  412.  400.  788.  520.  536.  756. 1092.  594.  920.  920.\n",
      "   388.  700.  316.  644.  408.  314.  598. 1304.  410.  460.  632.  576.\n",
      "   352.  492.  718.  336. 1224.  702.  400.  414.  876.  508. 1134.  586.\n",
      "   486.  666.  606.  860.  656.  536.  578.  580.  492.  408.  486.  674.\n",
      "   526.  574.  518.  410.  632.  348.  758.  652.  732.  480.  480.  678.\n",
      "   468.  274.  326.  614.  712.  438.  568.  638.  170.  910.  278.  502.\n",
      "   380.  520.  440.  484.  550.  458.  406.  636.  366.  446.  758.  514.\n",
      "   332.  428.  528.  594.  560.  474.  408.  644.  864.  752.  422.  712.\n",
      "   332.  240.  724.  522.]]\n",
      "[[ 128.  256.  256.  128.  256.  128.  256.  256.  512.  256.  512.  512.\n",
      "   128.  256.  128.  256.  128.   64.  256. 1024.  128.  128.  256.  128.\n",
      "   128.  128.  512.  128.  512.  256.  128.  128.  512.  256.  512.  256.\n",
      "   256.  256.  256.  256.  256.  128.  256.  256.  256.  128.  128.  256.\n",
      "   128.  256.  256.  128.  256.  128.  512.  256.  256.  256.  256.  256.\n",
      "   256.   64.  128.  256.  256.  128.  256.  256.   64.  512.  128.  128.\n",
      "   128.  256.  128.  128.  256.  256.  128.  256.  128.  256.  256.  128.\n",
      "   128.  128.  256.  256.  256.  256.  128.  256.  512.  256.  128.  256.\n",
      "    64.   64.  256.  256.]]\n",
      "Duration:  6.846510887145996\n"
     ]
    },
    {
     "data": {
      "image/png": "[encoded data removed]",
      "text/plain": [
       "<Figure size 432x288 with 1 Axes>"
      ]
     },
     "metadata": {
      "needs_background": "light"
     },
     "output_type": "display_data"
    },
    {
     "data": {
      "image/png": "[encoded data removed]",
      "text/plain": [
       "<Figure size 432x288 with 1 Axes>"
      ]
     },
     "metadata": {
      "needs_background": "light"
     },
     "output_type": "display_data"
    }
   ],
   "source": [
    "# Evaluate the Naive Strategy\n",
    "import time\n",
    "start = time.time()\n",
    "it_num = 100\n",
    "scores_sum = np.zeros([it_num,1])\n",
    "scores_max = np.zeros([it_num,1])\n",
    "for i in range(it_num):\n",
    "    board = one_step_min_pieces()\n",
    "    s_sum = np.sum(board)\n",
    "    s_max = np.amax(board)\n",
    "    scores_sum[i]=s_sum\n",
    "    scores_max[i]=s_max\n",
    "print(np.mean(scores_sum))\n",
    "print(np.mean(scores_max))\n",
    "print(scores_sum.T)\n",
    "print(scores_max.T)\n",
    "plt.figure(1)\n",
    "plt.title('Histogram of Sum of All Pieces on Board at End Game')\n",
    "plt.hist(scores_sum)\n",
    "plt.figure(2)\n",
    "plt.title('Histogram of Highest Value Piece on Board at End Game')\n",
    "plt.hist(scores_max)\n",
    "end = time.time()\n",
    "dur = end-start\n",
    "print('Duration: ',dur)"
   ]
  },
  {
   "cell_type": "code",
   "execution_count": 42,
   "metadata": {},
   "outputs": [
    {
     "name": "stdout",
     "output_type": "stream",
     "text": [
      "258.44\n",
      "100.8\n",
      "[[132. 208. 328. 190. 180. 324. 226. 166. 322. 118. 326. 114. 330. 324.\n",
      "  252. 284. 250. 334. 312. 158. 240. 416. 180. 318. 236. 210. 214. 262.\n",
      "  192. 434. 258. 196. 294. 174. 322. 204. 420. 284. 222. 220. 188. 202.\n",
      "  214. 252. 324. 324. 286. 180. 192. 180. 336. 196. 228. 162. 184. 250.\n",
      "  148. 334. 348. 306. 200. 190. 206. 216. 434. 304. 228. 332. 234. 324.\n",
      "  340. 160. 250. 242. 190. 352. 404. 426. 162. 192. 216. 262. 340. 248.\n",
      "  302. 272. 130. 270. 268. 136. 318. 218. 244. 218. 282. 496. 204. 226.\n",
      "  538. 262.]]\n",
      "[[ 32.  64. 128.  64.  64. 128.  64.  64. 128.  32. 128.  32. 128. 128.\n",
      "  128. 128. 128. 128. 128.  64.  64. 256.  64. 128.  64.  64.  64. 128.\n",
      "   64. 256.  64.  64. 128.  64. 128.  64. 256. 128.  64.  64.  64.  64.\n",
      "   64. 128. 128. 128. 128.  32.  64.  64. 128.  64.  64.  32.  64. 128.\n",
      "   32. 128. 128. 128.  64.  64.  64.  64. 256. 128.  64. 128. 128. 128.\n",
      "  128.  32.  64.  64.  64. 128. 256. 128.  64.  64.  64.  64. 128.  64.\n",
      "  128. 128.  32. 128. 128.  32. 128.  64.  64. 128. 128. 256.  64.  64.\n",
      "  256. 128.]]\n",
      "Duration:  4.327685356140137\n"
     ]
    },
    {
     "data": {
      "image/png": "[encoded data removed]",
      "text/plain": [
       "<Figure size 432x288 with 1 Axes>"
      ]
     },
     "metadata": {
      "needs_background": "light"
     },
     "output_type": "display_data"
    },
    {
     "data": {
      "image/png": "[encoded data removed]",
      "text/plain": [
       "<Figure size 432x288 with 1 Axes>"
      ]
     },
     "metadata": {
      "needs_background": "light"
     },
     "output_type": "display_data"
    }
   ],
   "source": [
    "# Evaluate Random Play Strategy\n",
    "import time\n",
    "start = time.time()\n",
    "it_num = 100\n",
    "scores_sum = np.zeros([it_num,1])\n",
    "scores_max = np.zeros([it_num,1])\n",
    "for i in range(it_num):\n",
    "    board = rand_play()\n",
    "    s_sum = np.sum(board)\n",
    "    s_max = np.amax(board)\n",
    "    scores_sum[i]=s_sum\n",
    "    scores_max[i]=s_max\n",
    "print(np.mean(scores_sum))\n",
    "print(np.mean(scores_max))\n",
    "print(scores_sum.T)\n",
    "print(scores_max.T)\n",
    "plt.figure(1)\n",
    "plt.title('Histogram of Sum of All Pieces on Board at End Game')\n",
    "plt.hist(scores_sum)\n",
    "plt.figure(2)\n",
    "plt.title('Histogram of Highest Value Piece on Board at End Game')\n",
    "plt.hist(scores_max)\n",
    "end = time.time()\n",
    "dur = end-start\n",
    "print('Duration: ',dur)"
   ]
  },
  {
   "cell_type": "code",
   "execution_count": 185,
   "metadata": {},
   "outputs": [
    {
     "name": "stdout",
     "output_type": "stream",
     "text": [
      "486.22\n"
     ]
    }
   ],
   "source": [
    "# Evaluate MCTS Heuristic\n",
    "import time\n",
    "start = time.time()\n",
    "it_num = 100\n",
    "scores_sum = np.zeros([it_num,1])\n",
    "scores_max = np.zeros([it_num,1])\n",
    "for i in range(it_num):\n",
    "    board = rand_traj()\n",
    "    s_sum = np.sum(board)\n",
    "    s_max = np.amax(board)\n",
    "    scores_sum[i]=s_sum\n",
    "    scores_max[i]=s_max\n",
    "print(np.mean(scores_sum))\n",
    "print(np.mean(scores_max))\n",
    "print(scores_sum.T)\n",
    "print(scores_max.T)\n",
    "plt.figure(1)\n",
    "plt.title('Histogram of Sum of All Pieces on Board at End Game')\n",
    "plt.hist(scores_sum)\n",
    "plt.figure(2)\n",
    "plt.title('Histogram of Highest Value Piece on Board at End Game')\n",
    "plt.hist(scores_max)\n",
    "end = time.time()\n",
    "dur = end-start\n",
    "print('Duration: ',dur)"
   ]
  },
  {
   "cell_type": "code",
   "execution_count": null,
   "metadata": {},
   "outputs": [],
   "source": [
    "# Evaluate L-Step Lookahead\n",
    "import time\n",
    "start = time.time()\n",
    "it_num = 100\n",
    "scores_sum = np.zeros([it_num,1])\n",
    "scores_max = np.zeros([it_num,1])\n",
    "for i in range(it_num):\n",
    "    board = sume() #weight #maxe\n",
    "    s_sum = np.sum(board)\n",
    "    s_max = np.amax(board)\n",
    "    scores_sum[i]=s_sum\n",
    "    scores_max[i]=s_max\n",
    "print(np.mean(scores_sum))\n",
    "print(np.mean(scores_max))\n",
    "print(scores_sum.T)\n",
    "print(scores_max.T)\n",
    "plt.figure(1)\n",
    "plt.title('Histogram of Sum of All Pieces on Board at End Game')\n",
    "plt.hist(scores_sum)\n",
    "plt.figure(2)\n",
    "plt.title('Histogram of Highest Value Piece on Board at End Game')\n",
    "plt.hist(scores_max)\n",
    "end = time.time()\n",
    "dur = end-start\n",
    "print('Duration: ',dur)"
   ]
  }
 ],
 "metadata": {
  "kernelspec": {
   "display_name": "Python 3",
   "language": "python",
   "name": "python3"
  },
  "language_info": {
   "codemirror_mode": {
    "name": "ipython",
    "version": 3
   },
   "file_extension": ".py",
   "mimetype": "text/x-python",
   "name": "python",
   "nbconvert_exporter": "python",
   "pygments_lexer": "ipython3",
   "version": "3.7.4"
  }
 },
 "nbformat": 4,
 "nbformat_minor": 4
}
